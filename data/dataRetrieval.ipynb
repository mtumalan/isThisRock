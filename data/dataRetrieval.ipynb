{
 "cells": [
  {
   "cell_type": "code",
   "execution_count": 105,
   "metadata": {},
   "outputs": [],
   "source": [
    "# Start by importing the necessary libraries\n",
    "\n",
    "import requests # to make the API request for obtaining data\n",
    "import pandas as pd # to work with dataframes\n",
    "import json # to parse the JSON data"
   ]
  },
  {
   "cell_type": "code",
   "execution_count": 106,
   "metadata": {},
   "outputs": [],
   "source": [
    "# Function that gets a genre and returns the data for that genre from the API\n",
    "\n",
    "def genreData(genre, url=\"http://localhost:8000/genre\"):\n",
    "    '''\n",
    "    Function that takes a genre and returns the data for that genre from the API\n",
    "\n",
    "    Parameters:\n",
    "    genre (str): The genre for which the data is to be obtained\n",
    "    url (str): The URL of the API to be used\n",
    "\n",
    "    Returns:\n",
    "    results (json): Response from the API for the genre\n",
    "    '''\n",
    "\n",
    "    # Make the API request\n",
    "    response = requests.get(url, params={\"genre\": genre})\n",
    "\n",
    "    # Check if the request was successful\n",
    "    if response.status_code == 200:\n",
    "        results = response.json().get(\"results\", [])\n",
    "        return results\n",
    "    else:\n",
    "        print(f\"Failed to fetch data for genre: {genre}\")\n",
    "        return []"
   ]
  },
  {
   "cell_type": "code",
   "execution_count": 107,
   "metadata": {},
   "outputs": [],
   "source": [
    "# Fetch data for multiple genres\n",
    "\n",
    "genres = [\"pop\", \"rock\", \"jazz\", \"hip hop\", \"classical\"]\n",
    "all_tracks = []\n",
    "\n",
    "for genre in genres:\n",
    "    genre_data = genreData(genre)\n",
    "    for track in genre_data:\n",
    "        track[\"genre\"] = genre\n",
    "    all_tracks.append(genre_data)"
   ]
  },
  {
   "cell_type": "code",
   "execution_count": 108,
   "metadata": {},
   "outputs": [
    {
     "name": "stdout",
     "output_type": "stream",
     "text": [
      "                       id                                   name  \\\n",
      "0  0WbMK4wrZ1wFSty9F7FCgu                       Good Luck, Babe!   \n",
      "1  6dOtVTDdiauQNBQEDOtlAB                     BIRDS OF A FEATHER   \n",
      "2  5N3hjp1WNayUPZrA8kJmJP                   Please Please Please   \n",
      "3  2qSkIjg1o9h3YT9RAgYN75                               Espresso   \n",
      "4  7221xIgOnuakPdLqT0F3nP  I Had Some Help (Feat. Morgan Wallen)   \n",
      "\n",
      "                        artists genre  \n",
      "0               [Chappell Roan]   pop  \n",
      "1               [Billie Eilish]   pop  \n",
      "2           [Sabrina Carpenter]   pop  \n",
      "3           [Sabrina Carpenter]   pop  \n",
      "4  [Post Malone, Morgan Wallen]   pop  \n"
     ]
    }
   ],
   "source": [
    "# Convert the data to a pandas dataframe\n",
    "\n",
    "df = pd.DataFrame([track for genre_data in all_tracks for track in genre_data])\n",
    "\n",
    "# Display the first few rows of the dataframe\n",
    "\n",
    "print(df.head())\n"
   ]
  },
  {
   "cell_type": "code",
   "execution_count": 109,
   "metadata": {},
   "outputs": [],
   "source": [
    "# Function that gets each id from the df and returns the features for that id from the API\n",
    "\n",
    "def trackFeatures(track_id, url=\"http://localhost:8000/features\"):\n",
    "    '''\n",
    "    Function that takes a track id and returns the features for that track from the API\n",
    "    Parameters:\n",
    "    track_id (str): The track id for which the features are to be obtained\n",
    "    url (str): The URL of the API to be used\n",
    "    Returns:\n",
    "    dict: A dictionary of features for the track\n",
    "    '''\n",
    "    response = requests.get(url, params={\"track_id\": track_id})\n",
    "\n",
    "    if response.status_code == 200:\n",
    "        return response.json()\n",
    "    else:\n",
    "        print(f\"Failed to fetch data for track: {track_id}\")\n",
    "        return {}"
   ]
  },
  {
   "cell_type": "code",
   "execution_count": 110,
   "metadata": {},
   "outputs": [
    {
     "name": "stdout",
     "output_type": "stream",
     "text": [
      "   danceability  energy  key  loudness  mode  speechiness  acousticness  \\\n",
      "0         0.700   0.582   11    -5.960     0       0.0356       0.05020   \n",
      "1         0.747   0.507    2   -10.171     1       0.0358       0.20000   \n",
      "2         0.669   0.586    9    -6.073     1       0.0540       0.27400   \n",
      "3         0.701   0.760    0    -5.478     1       0.0285       0.10700   \n",
      "4         0.638   0.855    7    -4.860     1       0.0264       0.00757   \n",
      "\n",
      "   instrumentalness  liveness  valence    tempo            type  \\\n",
      "0          0.000000    0.0881    0.785  116.712  audio_features   \n",
      "1          0.060800    0.1170    0.438  104.978  audio_features   \n",
      "2          0.000000    0.1040    0.579  107.071  audio_features   \n",
      "3          0.000065    0.1850    0.690  103.969  audio_features   \n",
      "4          0.000000    0.2450    0.731  127.986  audio_features   \n",
      "\n",
      "                       id                                   uri  \\\n",
      "0  0WbMK4wrZ1wFSty9F7FCgu  spotify:track:0WbMK4wrZ1wFSty9F7FCgu   \n",
      "1  6dOtVTDdiauQNBQEDOtlAB  spotify:track:6dOtVTDdiauQNBQEDOtlAB   \n",
      "2  5N3hjp1WNayUPZrA8kJmJP  spotify:track:5N3hjp1WNayUPZrA8kJmJP   \n",
      "3  2qSkIjg1o9h3YT9RAgYN75  spotify:track:2qSkIjg1o9h3YT9RAgYN75   \n",
      "4  7221xIgOnuakPdLqT0F3nP  spotify:track:7221xIgOnuakPdLqT0F3nP   \n",
      "\n",
      "                                          track_href  \\\n",
      "0  https://api.spotify.com/v1/tracks/0WbMK4wrZ1wF...   \n",
      "1  https://api.spotify.com/v1/tracks/6dOtVTDdiauQ...   \n",
      "2  https://api.spotify.com/v1/tracks/5N3hjp1WNayU...   \n",
      "3  https://api.spotify.com/v1/tracks/2qSkIjg1o9h3...   \n",
      "4  https://api.spotify.com/v1/tracks/7221xIgOnuak...   \n",
      "\n",
      "                                        analysis_url  duration_ms  \\\n",
      "0  https://api.spotify.com/v1/audio-analysis/0WbM...       218424   \n",
      "1  https://api.spotify.com/v1/audio-analysis/6dOt...       210373   \n",
      "2  https://api.spotify.com/v1/audio-analysis/5N3h...       186365   \n",
      "3  https://api.spotify.com/v1/audio-analysis/2qSk...       175459   \n",
      "4  https://api.spotify.com/v1/audio-analysis/7221...       178206   \n",
      "\n",
      "   time_signature  \n",
      "0               4  \n",
      "1               4  \n",
      "2               4  \n",
      "3               4  \n",
      "4               4  \n"
     ]
    }
   ],
   "source": [
    "# Fetch features for all tracks, create a dataframe, mix it with the original dataframe and print the head\n",
    "\n",
    "all_features = []\n",
    "\n",
    "for track_id in df['id']:\n",
    "    track_features = trackFeatures(track_id)\n",
    "    all_features.append(track_features)\n",
    "\n",
    "df_features = pd.DataFrame(all_features)\n",
    "print(df_features.head())"
   ]
  },
  {
   "cell_type": "code",
   "execution_count": 111,
   "metadata": {},
   "outputs": [
    {
     "name": "stdout",
     "output_type": "stream",
     "text": [
      "                       id                                   name  \\\n",
      "0  0WbMK4wrZ1wFSty9F7FCgu                       Good Luck, Babe!   \n",
      "1  6dOtVTDdiauQNBQEDOtlAB                     BIRDS OF A FEATHER   \n",
      "2  5N3hjp1WNayUPZrA8kJmJP                   Please Please Please   \n",
      "3  2qSkIjg1o9h3YT9RAgYN75                               Espresso   \n",
      "4  7221xIgOnuakPdLqT0F3nP  I Had Some Help (Feat. Morgan Wallen)   \n",
      "\n",
      "                        artists genre  danceability  energy  key  loudness  \\\n",
      "0               [Chappell Roan]   pop         0.700   0.582   11    -5.960   \n",
      "1               [Billie Eilish]   pop         0.747   0.507    2   -10.171   \n",
      "2           [Sabrina Carpenter]   pop         0.669   0.586    9    -6.073   \n",
      "3           [Sabrina Carpenter]   pop         0.701   0.760    0    -5.478   \n",
      "4  [Post Malone, Morgan Wallen]   pop         0.638   0.855    7    -4.860   \n",
      "\n",
      "   mode  speechiness  ...  instrumentalness  liveness  valence    tempo  \\\n",
      "0     0       0.0356  ...          0.000000    0.0881    0.785  116.712   \n",
      "1     1       0.0358  ...          0.060800    0.1170    0.438  104.978   \n",
      "2     1       0.0540  ...          0.000000    0.1040    0.579  107.071   \n",
      "3     1       0.0285  ...          0.000065    0.1850    0.690  103.969   \n",
      "4     1       0.0264  ...          0.000000    0.2450    0.731  127.986   \n",
      "\n",
      "             type                                   uri  \\\n",
      "0  audio_features  spotify:track:0WbMK4wrZ1wFSty9F7FCgu   \n",
      "1  audio_features  spotify:track:6dOtVTDdiauQNBQEDOtlAB   \n",
      "2  audio_features  spotify:track:5N3hjp1WNayUPZrA8kJmJP   \n",
      "3  audio_features  spotify:track:2qSkIjg1o9h3YT9RAgYN75   \n",
      "4  audio_features  spotify:track:7221xIgOnuakPdLqT0F3nP   \n",
      "\n",
      "                                          track_href  \\\n",
      "0  https://api.spotify.com/v1/tracks/0WbMK4wrZ1wF...   \n",
      "1  https://api.spotify.com/v1/tracks/6dOtVTDdiauQ...   \n",
      "2  https://api.spotify.com/v1/tracks/5N3hjp1WNayU...   \n",
      "3  https://api.spotify.com/v1/tracks/2qSkIjg1o9h3...   \n",
      "4  https://api.spotify.com/v1/tracks/7221xIgOnuak...   \n",
      "\n",
      "                                        analysis_url duration_ms  \\\n",
      "0  https://api.spotify.com/v1/audio-analysis/0WbM...      218424   \n",
      "1  https://api.spotify.com/v1/audio-analysis/6dOt...      210373   \n",
      "2  https://api.spotify.com/v1/audio-analysis/5N3h...      186365   \n",
      "3  https://api.spotify.com/v1/audio-analysis/2qSk...      175459   \n",
      "4  https://api.spotify.com/v1/audio-analysis/7221...      178206   \n",
      "\n",
      "   time_signature  \n",
      "0               4  \n",
      "1               4  \n",
      "2               4  \n",
      "3               4  \n",
      "4               4  \n",
      "\n",
      "[5 rows x 21 columns]\n"
     ]
    }
   ],
   "source": [
    "# Save the dataframe to a CSV file\n",
    "\n",
    "df_final = pd.merge(df, df_features, on='id', how='left')\n",
    "print(df_final.head())\n",
    "df_final.to_csv(\"music_data.csv\", index=False)"
   ]
  }
 ],
 "metadata": {
  "kernelspec": {
   "display_name": "Python 3",
   "language": "python",
   "name": "python3"
  },
  "language_info": {
   "codemirror_mode": {
    "name": "ipython",
    "version": 3
   },
   "file_extension": ".py",
   "mimetype": "text/x-python",
   "name": "python",
   "nbconvert_exporter": "python",
   "pygments_lexer": "ipython3",
   "version": "3.11.0rc1"
  }
 },
 "nbformat": 4,
 "nbformat_minor": 2
}
